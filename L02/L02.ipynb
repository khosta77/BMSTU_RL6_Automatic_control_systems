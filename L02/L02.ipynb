{
 "cells": [
  {
   "cell_type": "code",
   "execution_count": 1,
   "id": "df123813-9fe3-4224-a119-cced3ec37bd5",
   "metadata": {},
   "outputs": [
    {
     "name": "stdout",
     "output_type": "stream",
     "text": [
      "Requirement already satisfied: numpy in /opt/homebrew/lib/python3.11/site-packages (1.26.0)\n",
      "Requirement already satisfied: matplotlib in /opt/homebrew/lib/python3.11/site-packages (3.8.0)\n",
      "Requirement already satisfied: control in /opt/homebrew/lib/python3.11/site-packages (0.9.4)\n",
      "Requirement already satisfied: contourpy>=1.0.1 in /opt/homebrew/lib/python3.11/site-packages (from matplotlib) (1.1.1)\n",
      "Requirement already satisfied: cycler>=0.10 in /opt/homebrew/lib/python3.11/site-packages (from matplotlib) (0.12.1)\n",
      "Requirement already satisfied: fonttools>=4.22.0 in /opt/homebrew/lib/python3.11/site-packages (from matplotlib) (4.43.1)\n",
      "Requirement already satisfied: kiwisolver>=1.0.1 in /opt/homebrew/lib/python3.11/site-packages (from matplotlib) (1.4.5)\n",
      "Requirement already satisfied: packaging>=20.0 in /opt/homebrew/lib/python3.11/site-packages (from matplotlib) (23.2)\n",
      "Requirement already satisfied: pillow>=6.2.0 in /opt/homebrew/lib/python3.11/site-packages (from matplotlib) (10.0.1)\n",
      "Requirement already satisfied: pyparsing>=2.3.1 in /opt/homebrew/lib/python3.11/site-packages (from matplotlib) (3.1.1)\n",
      "Requirement already satisfied: python-dateutil>=2.7 in /opt/homebrew/lib/python3.11/site-packages (from matplotlib) (2.8.2)\n",
      "Requirement already satisfied: scipy>=1.3 in /opt/homebrew/lib/python3.11/site-packages (from control) (1.11.3)\n",
      "Requirement already satisfied: six>=1.5 in /opt/homebrew/lib/python3.11/site-packages (from python-dateutil>=2.7->matplotlib) (1.16.0)\n"
     ]
    }
   ],
   "source": [
    "!pip install numpy matplotlib control"
   ]
  },
  {
   "cell_type": "code",
   "execution_count": 2,
   "id": "cecdf489-c7ac-448c-9047-0a3026876b10",
   "metadata": {},
   "outputs": [],
   "source": [
    "from numpy import *\n",
    "from matplotlib import pyplot as plt\n",
    "from control.matlab import *"
   ]
  },
  {
   "cell_type": "code",
   "execution_count": 3,
   "id": "edd647c8-634d-43b1-8bfc-4069ac026d18",
   "metadata": {},
   "outputs": [],
   "source": [
    "data = [\n",
    "    (tf([1.], [2., 0.3, 1.]), \"Пример\"),\n",
    "    (tf([1], [1, 0]), \"Интегрирующее\"),\n",
    "    (tf([2], [1]), \"Дифференцирующее\"),\n",
    "    (tf([1], [0, 1]), \"Усилительное (безынерционное)\"),\n",
    "    (tf([1], [2, 1]), \"Апериодическое 1-го порядка (инерционное)\"),\n",
    "    (tf([1], [2, 5, 1]), \"Апериодическое 2-го порядка (все корни вещественные)\"),\n",
    "    (tf([1], [2, 1, 1]), \"Kолебательное\"),\n",
    "    (tf([1], [2, 0, 1]), \"Kонсервативное\"),\n",
    "    (tf([1], [2, 1, 0]), \"Интегрирующее с запаздыванием (реальное интегрирующее)\"),\n",
    "    (tf([1, 0], [2, 1]), \"Дифференцирующее с запаздыванием (реальное дифференцирующее)\"),\n",
    "    (tf([4, 2], [1, 1]), \"Форсирующее\"),\n",
    "    (tf([4, 2], [1, 0]), \"Изодромное\")\n",
    "]"
   ]
  },
  {
   "cell_type": "code",
   "execution_count": 17,
   "id": "4e54655b-6a49-4b6e-b37f-3be8dd4d4074",
   "metadata": {},
   "outputs": [],
   "source": [
    "def plotBuild(fooTF):\n",
    "    mag, phase, omega = bode(fooTF, dB=True)\n",
    "    plt.subplot(2 , 1, 1)\n",
    "    plt.title('Bode Diagram')"
   ]
  },
  {
   "cell_type": "code",
   "execution_count": 15,
   "id": "51ca1dfb-8abd-484e-878a-ba9bf8f40273",
   "metadata": {},
   "outputs": [],
   "source": [
    "def main(groups):\n",
    "    for pair in groups:\n",
    "        plotBuild(pair[0])   \n",
    "        plt.savefig(f'img/{pair[1]}.png', format='png', dpi=800)\n",
    "        plt.close()"
   ]
  },
  {
   "cell_type": "code",
   "execution_count": 16,
   "id": "d8d84f66-5e8a-4fd7-87c4-e78d415af0f4",
   "metadata": {},
   "outputs": [],
   "source": [
    "main(data)"
   ]
  }
 ],
 "metadata": {
  "kernelspec": {
   "display_name": "Python 3 (ipykernel)",
   "language": "python",
   "name": "python3"
  },
  "language_info": {
   "codemirror_mode": {
    "name": "ipython",
    "version": 3
   },
   "file_extension": ".py",
   "mimetype": "text/x-python",
   "name": "python",
   "nbconvert_exporter": "python",
   "pygments_lexer": "ipython3",
   "version": "3.11.6"
  }
 },
 "nbformat": 4,
 "nbformat_minor": 5
}
