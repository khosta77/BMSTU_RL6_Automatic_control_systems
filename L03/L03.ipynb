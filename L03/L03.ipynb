{
 "cells": [
  {
   "cell_type": "code",
   "execution_count": 57,
   "id": "66f1ef18-38a0-4b44-9503-f805fc259692",
   "metadata": {},
   "outputs": [
    {
     "name": "stdout",
     "output_type": "stream",
     "text": [
      "Requirement already satisfied: numpy in /opt/homebrew/lib/python3.11/site-packages (1.26.0)\n",
      "Requirement already satisfied: matplotlib in /opt/homebrew/lib/python3.11/site-packages (3.8.0)\n",
      "Requirement already satisfied: control in /opt/homebrew/lib/python3.11/site-packages (0.9.4)\n",
      "Requirement already satisfied: contourpy>=1.0.1 in /opt/homebrew/lib/python3.11/site-packages (from matplotlib) (1.1.1)\n",
      "Requirement already satisfied: cycler>=0.10 in /opt/homebrew/lib/python3.11/site-packages (from matplotlib) (0.12.1)\n",
      "Requirement already satisfied: fonttools>=4.22.0 in /opt/homebrew/lib/python3.11/site-packages (from matplotlib) (4.43.1)\n",
      "Requirement already satisfied: kiwisolver>=1.0.1 in /opt/homebrew/lib/python3.11/site-packages (from matplotlib) (1.4.5)\n",
      "Requirement already satisfied: packaging>=20.0 in /opt/homebrew/lib/python3.11/site-packages (from matplotlib) (23.2)\n",
      "Requirement already satisfied: pillow>=6.2.0 in /opt/homebrew/lib/python3.11/site-packages (from matplotlib) (10.0.1)\n",
      "Requirement already satisfied: pyparsing>=2.3.1 in /opt/homebrew/lib/python3.11/site-packages (from matplotlib) (3.1.1)\n",
      "Requirement already satisfied: python-dateutil>=2.7 in /opt/homebrew/lib/python3.11/site-packages (from matplotlib) (2.8.2)\n",
      "Requirement already satisfied: scipy>=1.3 in /opt/homebrew/lib/python3.11/site-packages (from control) (1.11.3)\n",
      "Requirement already satisfied: six>=1.5 in /opt/homebrew/lib/python3.11/site-packages (from python-dateutil>=2.7->matplotlib) (1.16.0)\n"
     ]
    }
   ],
   "source": [
    "!pip install numpy matplotlib control"
   ]
  },
  {
   "cell_type": "code",
   "execution_count": 37,
   "id": "fb9fd040-f5ea-44a0-a377-5215db827d55",
   "metadata": {},
   "outputs": [],
   "source": [
    "import numpy as np\n",
    "from matplotlib import pyplot as plt\n",
    "from control.matlab import *"
   ]
  },
  {
   "cell_type": "code",
   "execution_count": 48,
   "id": "90a192ee-0c20-47e9-b4fa-19cda890d51a",
   "metadata": {},
   "outputs": [],
   "source": [
    "def plotBodeBuild(w):\n",
    "    plt.figure()\n",
    "    bode(w)\n",
    "    plt.savefig('img/Bode.png', format='png', dpi=800)\n",
    "    plt.close()"
   ]
  },
  {
   "cell_type": "code",
   "execution_count": 40,
   "id": "91f09d13-38fd-4490-a836-0b2155dfbc69",
   "metadata": {},
   "outputs": [],
   "source": [
    "def create_hurwitz_matrix(coefficients):\n",
    "    k = 0\n",
    "    matrix = []\n",
    "    for _ in range(0, len(coefficients)-1):\n",
    "        column = []\n",
    "        for d in range(0, len(coefficients)-1):\n",
    "            if 2*d+1-k < 0:\n",
    "                column.append(0)\n",
    "            else:\n",
    "                try:\n",
    "                    column.append(coefficients[2*d+1-k])\n",
    "                except IndexError:\n",
    "                    column.append(0)\n",
    "            d += 1\n",
    "        matrix.append(column)\n",
    "        k += 1\n",
    "    return np.array(matrix)"
   ]
  },
  {
   "cell_type": "code",
   "execution_count": 55,
   "id": "cc3c8814-37e1-4755-a8b8-e7fe3ea0823c",
   "metadata": {},
   "outputs": [],
   "source": [
    "def plotNyqustBuild(num, den, tau):\n",
    "    w = tf(num, den)\n",
    "    print(f'Передаточная функция САУ : \\n {w}')\n",
    "    m = create_hurwitz_matrix(den)\n",
    "    print(m)\n",
    "    for i in range(1, (len(m) + 1)):\n",
    "        print(f'Определитель {i}: {np.round(np.linalg.det(m[0:i:1,0:i]), 2)}')\n",
    "    t = np.arange(0.0, tau, 0.1)\n",
    "    y_step, x_step = step(w, T=tau)\n",
    "    plt.figure()\n",
    "    nyquist(w)\n",
    "    plt.savefig('img/Nyquist.png', format='png', dpi=800)\n",
    "    plt.close()\n",
    "    plt.figure()\n",
    "    plt.plot(x_step, y_step, color='red', linewidth=0.85)\n",
    "    plt.axhline(1.0, color='black', linestyle='--', linewidth=0.7)\n",
    "    plt.grid()\n",
    "    plt.ylabel('Amplitude')\n",
    "    plt.xlabel('Time, (sec)')\n",
    "    plt.title('Step response')\n",
    "    plt.savefig('img/Step response.png', format='png', dpi=800)\n",
    "    plt.close()\n",
    "    plotBodeBuild(w)"
   ]
  },
  {
   "cell_type": "code",
   "execution_count": 56,
   "id": "70345f90-f830-4230-bd45-e3919d1c462e",
   "metadata": {},
   "outputs": [
    {
     "name": "stdout",
     "output_type": "stream",
     "text": [
      "Передаточная функция САУ : \n",
      " \n",
      "              2\n",
      "-----------------------------\n",
      "s^4 + 5 s^3 + 5 s^2 + 3 s + 1\n",
      "\n",
      "[[5 3 0 0]\n",
      " [1 5 1 0]\n",
      " [0 5 3 0]\n",
      " [0 1 5 1]]\n",
      "Определитель 1: 5.0\n",
      "Определитель 2: 22.0\n",
      "Определитель 3: 41.0\n",
      "Определитель 4: 41.0\n"
     ]
    }
   ],
   "source": [
    "plotNyqustBuild([2.], [1, 5, 5, 3, 1], 50)"
   ]
  }
 ],
 "metadata": {
  "kernelspec": {
   "display_name": "Python 3 (ipykernel)",
   "language": "python",
   "name": "python3"
  },
  "language_info": {
   "codemirror_mode": {
    "name": "ipython",
    "version": 3
   },
   "file_extension": ".py",
   "mimetype": "text/x-python",
   "name": "python",
   "nbconvert_exporter": "python",
   "pygments_lexer": "ipython3",
   "version": "3.11.6"
  }
 },
 "nbformat": 4,
 "nbformat_minor": 5
}
